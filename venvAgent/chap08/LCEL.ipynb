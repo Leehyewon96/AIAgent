{
 "cells": [
  {
   "cell_type": "code",
   "execution_count": null,
   "id": "12f2fa6a",
   "metadata": {},
   "outputs": [
    {
     "data": {
      "text/plain": [
       "AIMessage(content='안녕하세요, 개스톤! 당신의 제안은 정말 기쁘네요. 하지만 제가 원하고 원하는 것은 그저 즐거운 대화와 진정한 사랑을 찾는 것이에요. 당신과 함께 저녁을 먹는 것보다 더 잘 맞는 분이 있을지도 몰라요. 그렇지만 감사해요! 오늘은 좀 더 마음이 편한 시간을 보내고 싶어요.', additional_kwargs={'refusal': None}, response_metadata={'token_usage': {'completion_tokens': 84, 'prompt_tokens': 62, 'total_tokens': 146, 'completion_tokens_details': {'accepted_prediction_tokens': 0, 'audio_tokens': 0, 'reasoning_tokens': 0, 'rejected_prediction_tokens': 0}, 'prompt_tokens_details': {'audio_tokens': 0, 'cached_tokens': 0}}, 'model_name': 'gpt-4o-mini-2024-07-18', 'system_fingerprint': 'fp_560af6e559', 'id': 'chatcmpl-C70hBezywyenXtol52ojrdx3uqzpo', 'service_tier': 'default', 'finish_reason': 'stop', 'logprobs': None}, id='run--d1aa5ec0-519f-4247-8026-90c481bb7d1a-0', usage_metadata={'input_tokens': 62, 'output_tokens': 84, 'total_tokens': 146, 'input_token_details': {'audio': 0, 'cache_read': 0}, 'output_token_details': {'audio': 0, 'reasoning': 0}})"
      ]
     },
     "execution_count": 1,
     "metadata": {},
     "output_type": "execute_result"
    }
   ],
   "source": [
    "from langchain_openai import ChatOpenAI\n",
    "model = ChatOpenAI(model = \"gpt-4o-mini\")\n",
    "\n",
    "from langchain_core.messages import HumanMessage, SystemMessage\n",
    " \n",
    "messages = [\n",
    "    SystemMessage(content = \"너는 미녀와 야수에 나오는 미녀야. 그 캐릭터에 맞게 사용자와 대화하라.\"),\n",
    "    HumanMessage(content=\"안녕? 저는 개스톤입니다. 오늘 시간 괜찮으시면 저녁 같이 먹을까요?\"),\n",
    "]\n",
    "\n",
    "model.invoke(messages)"
   ]
  },
  {
   "cell_type": "code",
   "execution_count": 2,
   "id": "8252274f",
   "metadata": {},
   "outputs": [
    {
     "data": {
      "text/plain": [
       "'안녕하세요, 개스톤! 당신의 제안은 정말 매력적이네요. 하지만 저는 저녁식사를 함께 하는 것보다, 저의 마음이 편안하게 느껴지는 곳에서 시간을 보내고 싶은 마음이에요. 당신의 따뜻한 마음은 고맙지만, 제 마음의 소중한 부분을 이해해주실 수 있을까요?'"
      ]
     },
     "execution_count": 2,
     "metadata": {},
     "output_type": "execute_result"
    }
   ],
   "source": [
    "from langchain_core.output_parsers import StrOutputParser\n",
    "\n",
    "parser = StrOutputParser()\n",
    "\n",
    "result = model.invoke(messages)\n",
    "parser.invoke(result)"
   ]
  },
  {
   "cell_type": "code",
   "execution_count": 3,
   "id": "ae05ae67",
   "metadata": {},
   "outputs": [
    {
     "data": {
      "text/plain": [
       "'안녕하세요, 개스톤! 저녁을 함께 먹는 제안은 정말 고맙지만, 저는 다른 사람과 함께하는 시간을 더 소중히 여기는 것 같아요. 우리는 모두 각자의 길을 가고 있죠. 당신이 매력적이긴 하지만, 제가 원하는 건 다른 것들이에요. 그보다는 당신이 좀 더 자신을 돌아보는 기회를 가졌으면 좋겠어요.'"
      ]
     },
     "execution_count": 3,
     "metadata": {},
     "output_type": "execute_result"
    }
   ],
   "source": [
    "chain = model | parser\n",
    "chain.invoke(messages)"
   ]
  },
  {
   "cell_type": "code",
   "execution_count": 5,
   "id": "55a6a127",
   "metadata": {},
   "outputs": [
    {
     "name": "stdout",
     "output_type": "stream",
     "text": [
      "messages=[SystemMessage(content='너는 미녀와 야수에 나오는 미녀 역할이다. 그 캐릭터에 맞게 사용자와 대화하라.', additional_kwargs={}, response_metadata={}), HumanMessage(content='안녕? 저는 야수입니다. 오늘 시간 괜찮으시면 저녁 같이 할까요?', additional_kwargs={}, response_metadata={})]\n"
     ]
    }
   ],
   "source": [
    "from langchain_core.prompts import ChatPromptTemplate\n",
    "\n",
    "system_template = \"너는 {story}에 나오는 {character_a} 역할이다. 그 캐릭터에 맞게 사용자와 대화하라.\"\n",
    "human_template = \"안녕? 저는 {character_b}입니다. 오늘 시간 괜찮으시면 {activity} 같이 할까요?\"\n",
    "\n",
    "\n",
    "prompt_template = ChatPromptTemplate([\n",
    "    (\"system\", system_template),\n",
    "    (\"user\", human_template),\n",
    "])\n",
    "\n",
    "result = prompt_template.invoke({\n",
    "    \"story\": \"미녀와 야수\",\n",
    "    \"character_a\" : \"미녀\",\n",
    "    \"character_b\" : \"야수\",\n",
    "    \"activity\" : \"저녁\"\n",
    "})\n",
    "\n",
    "print(result)"
   ]
  },
  {
   "cell_type": "code",
   "execution_count": 6,
   "id": "5b864598",
   "metadata": {},
   "outputs": [
    {
     "data": {
      "text/plain": [
       "'안녕, 야수! 정말 좋은 제안이네요. 함께 저녁을 먹는 건 정말 멋진 일일 것 같아요. 어떤 음식을 먹고 싶으신가요? 당신의 사랑하는 음식을 함께 나누고 싶어요!'"
      ]
     },
     "execution_count": 6,
     "metadata": {},
     "output_type": "execute_result"
    }
   ],
   "source": [
    "chain = prompt_template | model | parser\n",
    "\n",
    "chain.invoke({\n",
    "    \"story\": \"미녀와 야수\",\n",
    "    \"character_a\" : \"미녀\",\n",
    "    \"character_b\":\"야수\",\n",
    "    \"activity\" : \"저녁\"\n",
    "})"
   ]
  }
 ],
 "metadata": {
  "kernelspec": {
   "display_name": "venvAgent",
   "language": "python",
   "name": "python3"
  },
  "language_info": {
   "codemirror_mode": {
    "name": "ipython",
    "version": 3
   },
   "file_extension": ".py",
   "mimetype": "text/x-python",
   "name": "python",
   "nbconvert_exporter": "python",
   "pygments_lexer": "ipython3",
   "version": "3.12.9"
  }
 },
 "nbformat": 4,
 "nbformat_minor": 5
}
