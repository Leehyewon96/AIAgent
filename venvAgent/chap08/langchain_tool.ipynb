{
 "cells": [
  {
   "cell_type": "code",
   "execution_count": 61,
   "id": "36d4c3a0",
   "metadata": {},
   "outputs": [
    {
     "name": "stdout",
     "output_type": "stream",
     "text": [
      "네, 잘 지냈습니다! 당신은 어떻게 지내고 계신가요? 도움이 필요하신 부분이 있다면 말씀해 주세요.\n"
     ]
    }
   ],
   "source": [
    "from langchain_openai import ChatOpenAI\n",
    "from langchain_core.messages import HumanMessage\n",
    "\n",
    "llm = ChatOpenAI(model=\"gpt-4o-mini\")\n",
    "response = llm.invoke([HumanMessage(content=\"잘 지냈어?\")])\n",
    "print(response.content)"
   ]
  },
  {
   "cell_type": "code",
   "execution_count": 62,
   "id": "8bc02426",
   "metadata": {},
   "outputs": [],
   "source": [
    "from langchain_core.tools import tool\n",
    "from datetime import datetime\n",
    "import pytz\n",
    "\n",
    "@tool\n",
    "def get_current_time(timezone:str, location: str) -> str:\n",
    "    \"\"\"현재 시각을 반환하는 함수\n",
    "    \n",
    "    Args:\n",
    "        timezone (str): 타임존(예: 'Asia/Seoul'). 실제 존재해야 함\n",
    "        location (str): 지역명, 타임존은 모든 지명에 대응되지 않으므로 이후 llm 답변 생성에 사용됨\n",
    "    \"\"\"\n",
    "    tz = pytz.timezone(timezone)\n",
    "    now = datetime.now(tz).strftime(\"%Y-%m-%d %H:%M:%S\")\n",
    "    location_and_local_time = f'{timezone} ({location}) 현재 시각 {now}'\n",
    "    print(location_and_local_time)\n",
    "    return location_and_local_time"
   ]
  },
  {
   "cell_type": "code",
   "execution_count": 63,
   "id": "26bde247",
   "metadata": {},
   "outputs": [],
   "source": [
    "tools = [get_current_time,]\n",
    "tool_dict = {\"get_current_time\": get_current_time,}\n",
    "\n",
    "llm_with_tools = llm.bind_tools(tools)"
   ]
  },
  {
   "cell_type": "code",
   "execution_count": 64,
   "id": "9d65cf54",
   "metadata": {},
   "outputs": [
    {
     "name": "stdout",
     "output_type": "stream",
     "text": [
      "[SystemMessage(content='너는 사용자의 질문에 답변을 하기 위해 tools를 사용할 수 있다.', additional_kwargs={}, response_metadata={}), HumanMessage(content='부산은 지금 몇 시야?', additional_kwargs={}, response_metadata={}), AIMessage(content='', additional_kwargs={'tool_calls': [{'id': 'call_JYRvEcfSRsn1vrC9syajOt2m', 'function': {'arguments': '{\"timezone\":\"Asia/Seoul\",\"location\":\"부산\"}', 'name': 'get_current_time'}, 'type': 'function'}], 'refusal': None}, response_metadata={'token_usage': {'completion_tokens': 23, 'prompt_tokens': 130, 'total_tokens': 153, 'completion_tokens_details': {'accepted_prediction_tokens': 0, 'audio_tokens': 0, 'reasoning_tokens': 0, 'rejected_prediction_tokens': 0}, 'prompt_tokens_details': {'audio_tokens': 0, 'cached_tokens': 0}}, 'model_name': 'gpt-4o-mini-2024-07-18', 'system_fingerprint': 'fp_560af6e559', 'id': 'chatcmpl-CMuXtnl9AV4M9KPGGG3ycnUeoyDpa', 'service_tier': 'default', 'finish_reason': 'tool_calls', 'logprobs': None}, id='run--154f44e4-9d32-4865-b4cc-fe82cac2ea0e-0', tool_calls=[{'name': 'get_current_time', 'args': {'timezone': 'Asia/Seoul', 'location': '부산'}, 'id': 'call_JYRvEcfSRsn1vrC9syajOt2m', 'type': 'tool_call'}], usage_metadata={'input_tokens': 130, 'output_tokens': 23, 'total_tokens': 153, 'input_token_details': {'audio': 0, 'cache_read': 0}, 'output_token_details': {'audio': 0, 'reasoning': 0}})]\n"
     ]
    }
   ],
   "source": [
    "from langchain_core.messages import SystemMessage\n",
    "\n",
    "messages = [\n",
    "    SystemMessage(\"너는 사용자의 질문에 답변을 하기 위해 tools를 사용할 수 있다.\"),\n",
    "    HumanMessage(\"부산은 지금 몇 시야?\"),\n",
    "]\n",
    "\n",
    "response = llm_with_tools.invoke(messages)\n",
    "messages.append(response);\n",
    "\n",
    "print(messages);"
   ]
  },
  {
   "cell_type": "code",
   "execution_count": 65,
   "id": "f32676a5",
   "metadata": {},
   "outputs": [
    {
     "name": "stdout",
     "output_type": "stream",
     "text": [
      "{'timezone': 'Asia/Seoul', 'location': '부산'}\n",
      "Asia/Seoul (부산) 현재 시각 2025-10-04 20:16:59\n"
     ]
    }
   ],
   "source": [
    "for tool_call in response.tool_calls:\n",
    "    selected_tool = tool_dict[tool_call[\"name\"]]\n",
    "    print(tool_call[\"args\"])\n",
    "    tool_msg = selected_tool.invoke(tool_call)\n",
    "    messages.append(tool_msg)"
   ]
  },
  {
   "cell_type": "code",
   "execution_count": 66,
   "id": "fb48a8c7",
   "metadata": {},
   "outputs": [],
   "source": [
    "from pydantic import BaseModel, Field\n",
    "\n",
    "class StockhistoryInput(BaseModel):\n",
    "    ticker: str = Field(..., title=\"주식 코드\", description=\"주식 코드 (예: AAPL)\")\n",
    "    period: str = Field(..., title=\"기간\", description=\"주식 데이터 조회 기간 (예: Id, 1mo, 1y)\")\n",
    "    "
   ]
  },
  {
   "cell_type": "code",
   "execution_count": 67,
   "id": "63c9d0af",
   "metadata": {},
   "outputs": [],
   "source": [
    "import yfinance as yf\n",
    "\n",
    "@tool\n",
    "def get_yf_stock_history(stock_history_input: StockhistoryInput) -> str:\n",
    "    \"\"\"주식 종목의 가격 데이터를 조회하는 함수\"\"\"\n",
    "    stock = yf.Ticker(stock_history_input.ticker)\n",
    "    history = stock.history(stock_history_input.period)\n",
    "    history_md = history.to_markdown()\n",
    "    \n",
    "    return history_md\n",
    "\n",
    "tools = [get_current_time, get_yf_stock_history]\n",
    "tool_dict = {\"get_current_time\": get_current_time, \"get_yf_stock_history\": get_yf_stock_history}\n",
    "\n",
    "llm_with_tools = llm.bind_tools(tools)\n"
   ]
  },
  {
   "cell_type": "code",
   "execution_count": 68,
   "id": "7746d129",
   "metadata": {},
   "outputs": [
    {
     "name": "stdout",
     "output_type": "stream",
     "text": [
      "content='' additional_kwargs={'tool_calls': [{'id': 'call_woTGHwBylAR0DybJhLPoABio', 'function': {'arguments': '{\"stock_history_input\":{\"ticker\":\"TSLA\",\"period\":\"1mo\"}}', 'name': 'get_yf_stock_history'}, 'type': 'function'}], 'refusal': None} response_metadata={'token_usage': {'completion_tokens': 27, 'prompt_tokens': 275, 'total_tokens': 302, 'completion_tokens_details': {'accepted_prediction_tokens': 0, 'audio_tokens': 0, 'reasoning_tokens': 0, 'rejected_prediction_tokens': 0}, 'prompt_tokens_details': {'audio_tokens': 0, 'cached_tokens': 0}}, 'model_name': 'gpt-4o-mini-2024-07-18', 'system_fingerprint': 'fp_560af6e559', 'id': 'chatcmpl-CMuXulVW6xSzuotZJ9D3AcCFXZpyP', 'service_tier': 'default', 'finish_reason': 'tool_calls', 'logprobs': None} id='run--ababfe14-e036-471b-845c-d14c18e87b29-0' tool_calls=[{'name': 'get_yf_stock_history', 'args': {'stock_history_input': {'ticker': 'TSLA', 'period': '1mo'}}, 'id': 'call_woTGHwBylAR0DybJhLPoABio', 'type': 'tool_call'}] usage_metadata={'input_tokens': 275, 'output_tokens': 27, 'total_tokens': 302, 'input_token_details': {'audio': 0, 'cache_read': 0}, 'output_token_details': {'audio': 0, 'reasoning': 0}}\n",
      "{'stock_history_input': {'ticker': 'TSLA', 'period': '1mo'}}\n",
      "content='| Date                      |   Open |   High |    Low |   Close |      Volume |   Dividends |   Stock Splits |\\n|:--------------------------|-------:|-------:|-------:|--------:|------------:|------------:|---------------:|\\n| 2025-09-04 00:00:00-04:00 | 336.15 | 338.89 | 331.48 |  338.53 | 6.0711e+07  |           0 |              0 |\\n| 2025-09-05 00:00:00-04:00 | 348    | 355.87 | 344.68 |  350.84 | 1.0899e+08  |           0 |              0 |\\n| 2025-09-08 00:00:00-04:00 | 354.64 | 358.44 | 344.84 |  346.4  | 7.52083e+07 |           0 |              0 |\\n| 2025-09-09 00:00:00-04:00 | 348.44 | 350.77 | 343.82 |  346.97 | 5.3816e+07  |           0 |              0 |\\n| 2025-09-10 00:00:00-04:00 | 350.55 | 356.33 | 346.07 |  347.79 | 7.21217e+07 |           0 |              0 |\\n| 2025-09-11 00:00:00-04:00 | 350.17 | 368.99 | 347.6  |  368.81 | 1.03756e+08 |           0 |              0 |\\n| 2025-09-12 00:00:00-04:00 | 370.94 | 396.69 | 370.24 |  395.94 | 1.68156e+08 |           0 |              0 |\\n| 2025-09-15 00:00:00-04:00 | 423.13 | 425.7  | 402.43 |  410.04 | 1.63824e+08 |           0 |              0 |\\n| 2025-09-16 00:00:00-04:00 | 414.5  | 423.25 | 411.43 |  421.62 | 1.04286e+08 |           0 |              0 |\\n| 2025-09-17 00:00:00-04:00 | 415.75 | 428.31 | 409.67 |  425.86 | 1.06134e+08 |           0 |              0 |\\n| 2025-09-18 00:00:00-04:00 | 428.87 | 432.22 | 416.56 |  416.85 | 9.04545e+07 |           0 |              0 |\\n| 2025-09-19 00:00:00-04:00 | 421.82 | 429.47 | 421.72 |  426.07 | 9.3131e+07  |           0 |              0 |\\n| 2025-09-22 00:00:00-04:00 | 431.11 | 444.98 | 429.13 |  434.21 | 9.71088e+07 |           0 |              0 |\\n| 2025-09-23 00:00:00-04:00 | 439.88 | 440.97 | 423.72 |  425.85 | 8.34227e+07 |           0 |              0 |\\n| 2025-09-24 00:00:00-04:00 | 429.83 | 444.21 | 429.03 |  442.79 | 9.31336e+07 |           0 |              0 |\\n| 2025-09-25 00:00:00-04:00 | 435.24 | 435.35 | 419.08 |  423.39 | 9.67464e+07 |           0 |              0 |\\n| 2025-09-26 00:00:00-04:00 | 428.3  | 440.47 | 421.02 |  440.4  | 1.01628e+08 |           0 |              0 |\\n| 2025-09-29 00:00:00-04:00 | 444.35 | 450.98 | 439.5  |  443.21 | 7.94915e+07 |           0 |              0 |\\n| 2025-09-30 00:00:00-04:00 | 441.52 | 445    | 433.12 |  444.72 | 7.4358e+07  |           0 |              0 |\\n| 2025-10-01 00:00:00-04:00 | 443.8  | 462.29 | 440.75 |  459.46 | 9.81223e+07 |           0 |              0 |\\n| 2025-10-02 00:00:00-04:00 | 470.54 | 470.75 | 435.57 |  436    | 1.37009e+08 |           0 |              0 |\\n| 2025-10-03 00:00:00-04:00 | 443.29 | 446.77 | 416.58 |  429.83 | 1.32773e+08 |           0 |              0 |' name='get_yf_stock_history' tool_call_id='call_woTGHwBylAR0DybJhLPoABio'\n"
     ]
    }
   ],
   "source": [
    "messages.append(HumanMessage(\"테슬라는 한 달 전에 비해 주가가 올랐나 내렸나?\"))\n",
    "\n",
    "response = llm_with_tools.invoke(messages)\n",
    "print(response)\n",
    "messages.append(response)\n",
    "\n",
    "for tool_call in response.tool_calls:\n",
    "    selected_tool = tool_dict[tool_call[\"name\"]]\n",
    "    print(tool_call[\"args\"])\n",
    "    tool_msg = selected_tool.invoke(tool_call)\n",
    "    messages.append(tool_msg)\n",
    "    print(tool_msg)"
   ]
  }
 ],
 "metadata": {
  "kernelspec": {
   "display_name": "venvAgent",
   "language": "python",
   "name": "python3"
  },
  "language_info": {
   "codemirror_mode": {
    "name": "ipython",
    "version": 3
   },
   "file_extension": ".py",
   "mimetype": "text/x-python",
   "name": "python",
   "nbconvert_exporter": "python",
   "pygments_lexer": "ipython3",
   "version": "3.12.9"
  }
 },
 "nbformat": 4,
 "nbformat_minor": 5
}
