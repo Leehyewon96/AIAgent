{
 "cells": [
  {
   "cell_type": "code",
   "execution_count": 2,
   "id": "36d4c3a0",
   "metadata": {},
   "outputs": [
    {
     "name": "stdout",
     "output_type": "stream",
     "text": [
      "네, 감사합니다! 당신은 잘 지내셨나요? 어떤 이야기를 나누고 싶으신가요?\n"
     ]
    }
   ],
   "source": [
    "from langchain_openai import ChatOpenAI\n",
    "from langchain_core.messages import HumanMessage\n",
    "\n",
    "llm = ChatOpenAI(model=\"gpt-4o-mini\")\n",
    "response = llm.invoke([HumanMessage(content=\"잘 지냈어?\")])\n",
    "print(response.content)"
   ]
  },
  {
   "cell_type": "code",
   "execution_count": 3,
   "id": "8bc02426",
   "metadata": {},
   "outputs": [],
   "source": [
    "from langchain_core.tools import tool\n",
    "from datetime import datetime\n",
    "import pytz\n",
    "\n",
    "@tool\n",
    "def get_current_time(timezone:str, location: str) -> str:\n",
    "    \"\"\"현재 시각을 반환하는 함수\n",
    "    \n",
    "    Args:\n",
    "        timezone (str): 타임존(예: 'Asia/Seoul'). 실제 존재해야 함\n",
    "        location (str): 지역명, 타임존은 모든 지명에 대응되지 않으므로 이후 llm 답변 생성에 사용됨\n",
    "    \"\"\"\n",
    "    tz = pytz.timezone(timezone)\n",
    "    now = datetime.now(tz).strftime(\"%Y-%m-%d %H:%M:%S\")\n",
    "    location_and_local_time = f'{timezone} ({location}) 현재 시각 {now}'\n",
    "    print(location_and_local_time)\n",
    "    return location_and_local_time"
   ]
  },
  {
   "cell_type": "code",
   "execution_count": 4,
   "id": "26bde247",
   "metadata": {},
   "outputs": [],
   "source": [
    "tools = [get_current_time,]\n",
    "tool_dict = {\"get_current_time\": get_current_time,}\n",
    "\n",
    "llm_with_tools = llm.bind_tools(tools)"
   ]
  },
  {
   "cell_type": "code",
   "execution_count": 5,
   "id": "9d65cf54",
   "metadata": {},
   "outputs": [
    {
     "name": "stdout",
     "output_type": "stream",
     "text": [
      "[SystemMessage(content='너는 사용자의 질문에 답변을 하기 위해 tools를 사용할 수 있다.', additional_kwargs={}, response_metadata={}), HumanMessage(content='부산은 지금 몇 시야?', additional_kwargs={}, response_metadata={}), AIMessage(content='', additional_kwargs={'tool_calls': [{'id': 'call_twTGuz0buGLB4bZY5Biw2qQm', 'function': {'arguments': '{\"timezone\":\"Asia/Seoul\",\"location\":\"부산\"}', 'name': 'get_current_time'}, 'type': 'function'}], 'refusal': None}, response_metadata={'token_usage': {'completion_tokens': 23, 'prompt_tokens': 130, 'total_tokens': 153, 'completion_tokens_details': {'accepted_prediction_tokens': 0, 'audio_tokens': 0, 'reasoning_tokens': 0, 'rejected_prediction_tokens': 0}, 'prompt_tokens_details': {'audio_tokens': 0, 'cached_tokens': 0}}, 'model_name': 'gpt-4o-mini-2024-07-18', 'system_fingerprint': 'fp_560af6e559', 'id': 'chatcmpl-CNAXapUbqSYhf5WF7gtDUcN3MuInC', 'service_tier': 'default', 'finish_reason': 'tool_calls', 'logprobs': None}, id='run--71736291-810d-4297-85de-440f3f9a690a-0', tool_calls=[{'name': 'get_current_time', 'args': {'timezone': 'Asia/Seoul', 'location': '부산'}, 'id': 'call_twTGuz0buGLB4bZY5Biw2qQm', 'type': 'tool_call'}], usage_metadata={'input_tokens': 130, 'output_tokens': 23, 'total_tokens': 153, 'input_token_details': {'audio': 0, 'cache_read': 0}, 'output_token_details': {'audio': 0, 'reasoning': 0}})]\n"
     ]
    }
   ],
   "source": [
    "from langchain_core.messages import SystemMessage\n",
    "\n",
    "messages = [\n",
    "    SystemMessage(\"너는 사용자의 질문에 답변을 하기 위해 tools를 사용할 수 있다.\"),\n",
    "    HumanMessage(\"부산은 지금 몇 시야?\"),\n",
    "]\n",
    "\n",
    "response = llm_with_tools.invoke(messages)\n",
    "messages.append(response);\n",
    "\n",
    "print(messages);"
   ]
  },
  {
   "cell_type": "code",
   "execution_count": 6,
   "id": "f32676a5",
   "metadata": {},
   "outputs": [
    {
     "name": "stdout",
     "output_type": "stream",
     "text": [
      "{'timezone': 'Asia/Seoul', 'location': '부산'}\n",
      "Asia/Seoul (부산) 현재 시각 2025-10-05 13:21:42\n"
     ]
    }
   ],
   "source": [
    "for tool_call in response.tool_calls:\n",
    "    selected_tool = tool_dict[tool_call[\"name\"]]\n",
    "    print(tool_call[\"args\"])\n",
    "    tool_msg = selected_tool.invoke(tool_call)\n",
    "    messages.append(tool_msg)"
   ]
  },
  {
   "cell_type": "code",
   "execution_count": 7,
   "id": "fb48a8c7",
   "metadata": {},
   "outputs": [],
   "source": [
    "from pydantic import BaseModel, Field\n",
    "\n",
    "class StockhistoryInput(BaseModel):\n",
    "    ticker: str = Field(..., title=\"주식 코드\", description=\"주식 코드 (예: AAPL)\")\n",
    "    period: str = Field(..., title=\"기간\", description=\"주식 데이터 조회 기간 (예: Id, 1mo, 1y)\")\n",
    "    "
   ]
  },
  {
   "cell_type": "code",
   "execution_count": 8,
   "id": "63c9d0af",
   "metadata": {},
   "outputs": [],
   "source": [
    "import yfinance as yf\n",
    "\n",
    "@tool\n",
    "def get_yf_stock_history(stock_history_input: StockhistoryInput) -> str:\n",
    "    \"\"\"주식 종목의 가격 데이터를 조회하는 함수\"\"\"\n",
    "    stock = yf.Ticker(stock_history_input.ticker)\n",
    "    history = stock.history(stock_history_input.period)\n",
    "    history_md = history.to_markdown()\n",
    "    \n",
    "    return history_md\n",
    "\n",
    "tools = [get_current_time, get_yf_stock_history]\n",
    "tool_dict = {\"get_current_time\": get_current_time, \"get_yf_stock_history\": get_yf_stock_history}\n",
    "\n",
    "llm_with_tools = llm.bind_tools(tools)\n"
   ]
  },
  {
   "cell_type": "code",
   "execution_count": 9,
   "id": "7746d129",
   "metadata": {},
   "outputs": [
    {
     "name": "stdout",
     "output_type": "stream",
     "text": [
      "content='' additional_kwargs={'tool_calls': [{'id': 'call_QVJ7jWTeahTgEl4sueG0Itpl', 'function': {'arguments': '{\"stock_history_input\":{\"ticker\":\"TSLA\",\"period\":\"1mo\"}}', 'name': 'get_yf_stock_history'}, 'type': 'function'}], 'refusal': None} response_metadata={'token_usage': {'completion_tokens': 27, 'prompt_tokens': 275, 'total_tokens': 302, 'completion_tokens_details': {'accepted_prediction_tokens': 0, 'audio_tokens': 0, 'reasoning_tokens': 0, 'rejected_prediction_tokens': 0}, 'prompt_tokens_details': {'audio_tokens': 0, 'cached_tokens': 0}}, 'model_name': 'gpt-4o-mini-2024-07-18', 'system_fingerprint': 'fp_560af6e559', 'id': 'chatcmpl-CNAXkkPI1fZd4U8CQoYRjvQvbHcav', 'service_tier': 'default', 'finish_reason': 'tool_calls', 'logprobs': None} id='run--33f43dc3-4d59-46c9-ad67-e740bc1270c2-0' tool_calls=[{'name': 'get_yf_stock_history', 'args': {'stock_history_input': {'ticker': 'TSLA', 'period': '1mo'}}, 'id': 'call_QVJ7jWTeahTgEl4sueG0Itpl', 'type': 'tool_call'}] usage_metadata={'input_tokens': 275, 'output_tokens': 27, 'total_tokens': 302, 'input_token_details': {'audio': 0, 'cache_read': 0}, 'output_token_details': {'audio': 0, 'reasoning': 0}}\n",
      "{'stock_history_input': {'ticker': 'TSLA', 'period': '1mo'}}\n",
      "content='| Date                      |   Open |   High |    Low |   Close |      Volume |   Dividends |   Stock Splits |\\n|:--------------------------|-------:|-------:|-------:|--------:|------------:|------------:|---------------:|\\n| 2025-09-04 00:00:00-04:00 | 336.15 | 338.89 | 331.48 |  338.53 | 6.0711e+07  |           0 |              0 |\\n| 2025-09-05 00:00:00-04:00 | 348    | 355.87 | 344.68 |  350.84 | 1.0899e+08  |           0 |              0 |\\n| 2025-09-08 00:00:00-04:00 | 354.64 | 358.44 | 344.84 |  346.4  | 7.52083e+07 |           0 |              0 |\\n| 2025-09-09 00:00:00-04:00 | 348.44 | 350.77 | 343.82 |  346.97 | 5.3816e+07  |           0 |              0 |\\n| 2025-09-10 00:00:00-04:00 | 350.55 | 356.33 | 346.07 |  347.79 | 7.21217e+07 |           0 |              0 |\\n| 2025-09-11 00:00:00-04:00 | 350.17 | 368.99 | 347.6  |  368.81 | 1.03756e+08 |           0 |              0 |\\n| 2025-09-12 00:00:00-04:00 | 370.94 | 396.69 | 370.24 |  395.94 | 1.68156e+08 |           0 |              0 |\\n| 2025-09-15 00:00:00-04:00 | 423.13 | 425.7  | 402.43 |  410.04 | 1.63824e+08 |           0 |              0 |\\n| 2025-09-16 00:00:00-04:00 | 414.5  | 423.25 | 411.43 |  421.62 | 1.04286e+08 |           0 |              0 |\\n| 2025-09-17 00:00:00-04:00 | 415.75 | 428.31 | 409.67 |  425.86 | 1.06134e+08 |           0 |              0 |\\n| 2025-09-18 00:00:00-04:00 | 428.87 | 432.22 | 416.56 |  416.85 | 9.04545e+07 |           0 |              0 |\\n| 2025-09-19 00:00:00-04:00 | 421.82 | 429.47 | 421.72 |  426.07 | 9.3131e+07  |           0 |              0 |\\n| 2025-09-22 00:00:00-04:00 | 431.11 | 444.98 | 429.13 |  434.21 | 9.71088e+07 |           0 |              0 |\\n| 2025-09-23 00:00:00-04:00 | 439.88 | 440.97 | 423.72 |  425.85 | 8.34227e+07 |           0 |              0 |\\n| 2025-09-24 00:00:00-04:00 | 429.83 | 444.21 | 429.03 |  442.79 | 9.31336e+07 |           0 |              0 |\\n| 2025-09-25 00:00:00-04:00 | 435.24 | 435.35 | 419.08 |  423.39 | 9.67464e+07 |           0 |              0 |\\n| 2025-09-26 00:00:00-04:00 | 428.3  | 440.47 | 421.02 |  440.4  | 1.01628e+08 |           0 |              0 |\\n| 2025-09-29 00:00:00-04:00 | 444.35 | 450.98 | 439.5  |  443.21 | 7.94915e+07 |           0 |              0 |\\n| 2025-09-30 00:00:00-04:00 | 441.52 | 445    | 433.12 |  444.72 | 7.4358e+07  |           0 |              0 |\\n| 2025-10-01 00:00:00-04:00 | 443.8  | 462.29 | 440.75 |  459.46 | 9.81223e+07 |           0 |              0 |\\n| 2025-10-02 00:00:00-04:00 | 470.54 | 470.75 | 435.57 |  436    | 1.37009e+08 |           0 |              0 |\\n| 2025-10-03 00:00:00-04:00 | 443.29 | 446.77 | 416.58 |  429.83 | 1.32773e+08 |           0 |              0 |' name='get_yf_stock_history' tool_call_id='call_QVJ7jWTeahTgEl4sueG0Itpl'\n"
     ]
    }
   ],
   "source": [
    "messages.append(HumanMessage(\"테슬라는 한 달 전에 비해 주가가 올랐나 내렸나?\"))\n",
    "\n",
    "response = llm_with_tools.invoke(messages)\n",
    "print(response)\n",
    "messages.append(response)\n",
    "\n",
    "for tool_call in response.tool_calls:\n",
    "    selected_tool = tool_dict[tool_call[\"name\"]]\n",
    "    print(tool_call[\"args\"])\n",
    "    tool_msg = selected_tool.invoke(tool_call)\n",
    "    messages.append(tool_msg)\n",
    "    print(tool_msg)"
   ]
  },
  {
   "cell_type": "code",
   "execution_count": 10,
   "id": "69a25e80",
   "metadata": {},
   "outputs": [
    {
     "name": "stdout",
     "output_type": "stream",
     "text": [
      "|저|는| 잘| 지|내|고| 있습니다|.| 한국| 사회|의| 문제|점|에| 대해| 몇| 가지|를| 이야기|해|보|겠습니다|.\n",
      "\n",
      "|1|.| **|고|령|화| 사회|**|:| 한국|은| 빠|른| 속|도로| 고|령|화|가| 진행|되고| 있습니다|.| 이는| 사회|保障| 시스템|에| 부담|을| 주|고|,| 젊|은| 세|대|의| 경제|적| 부담|이| 커|지는| 문제|를| 초|래|할| 수| 있습니다|.\n",
      "\n",
      "|2|.| **|청|년| 실|업|**|:| 고|학|력| 청|년|층|의| 실|업|률|이| 높|아|지고| 있으며|,| 많은| 젊|은|이|들이| 안정|적인| 일|자리| 찾|기에| 어려|움을| 겪|고| 있습니다|.| 이는| 사회| 불|안|정|과| 불|만|을| 야|기|할| 수| 있습니다|.\n",
      "\n",
      "|3|.| **|주|거| 문제|**|:| 대|도|시| 특히| 서울|의| 주|택| 가격|이| 급|등|하면서| 젊|은| 세|대|가| 주|거| 안정|성을| 느|끼|기| 어려|워|지고| 있습니다|.| 이는| 가|계| 부담|을| 증가|시키|고| 삶|의| 질|에| 큰| 영향을| 미|칠| 수| 있습니다|.\n",
      "\n",
      "|4|.| **|사회|적| 격|차|**|:| 경제|적| 불|평|등|이| 심|화|되고| 있으며|,| 이|로| 인해| 사회|적| 갈|등|이| 심|화|되고| 있습니다|.| 소|득|의| 불|균|형|은| 사회|적| 통|합|을| 저|해|하는| 요|인이| 될| 수| 있습니다|.\n",
      "\n",
      "|5|.| **|정|신| 건강| 문제|**|:| 높은| 경쟁|과| 스트|레스|의| 사회|적| 분위|기| 속|에서| 정신| 건강| 문제가| 심|각|해|지고| 있습니다|.| 특히| 젊|은| 세|대|의| 우|울|증| 및| 불|안| 장애|가| 증가|하고| 있습니다|.\n",
      "\n",
      "|6|.| **|성|차|별|과| 성|폭|력| 문제|**|:| 한국| 사회|에서는| 여|전히| 성|차|별|과| 성|폭|력| 문제가| 심|각|하게| 존재|하고| 있으며|,| 이에| 대한| 인|식| 개선|과| 법| 제|도가| 필요|합니다|.\n",
      "\n",
      "|이| 외|에도| 여러| 가지| 문제|들이| 있지만|,| 이러한| 문제|들은| 서로| 연결|되어| 있으며| 해결|을| 위해|서는| 종|합|적인| 접근|이| 필요|합니다|.||"
     ]
    }
   ],
   "source": [
    "for c in llm.stream([HumanMessage(\"잘 지냈어? 한국 사회의 문제점이 무엇인지 이야기해줘.\")]):\n",
    "    print(c.content, end='|')"
   ]
  },
  {
   "cell_type": "code",
   "execution_count": 12,
   "id": "68041894",
   "metadata": {},
   "outputs": [
    {
     "name": "stdout",
     "output_type": "stream",
     "text": [
      "chunk type:  <class 'langchain_core.messages.ai.AIMessageChunk'>\n",
      "content:   tool_call_chunk [{'name': 'get_current_time', 'args': {}, 'id': 'call_6PisPBfdRvZGNo0l7kodsaHW', 'type': 'tool_call'}]\n",
      "chunk type:  <class 'langchain_core.messages.ai.AIMessageChunk'>\n",
      "content:   tool_call_chunk [{'name': 'get_current_time', 'args': {}, 'id': 'call_6PisPBfdRvZGNo0l7kodsaHW', 'type': 'tool_call'}]\n",
      "chunk type:  <class 'langchain_core.messages.ai.AIMessageChunk'>\n",
      "content:   tool_call_chunk [{'name': 'get_current_time', 'args': {}, 'id': 'call_6PisPBfdRvZGNo0l7kodsaHW', 'type': 'tool_call'}]\n",
      "chunk type:  <class 'langchain_core.messages.ai.AIMessageChunk'>\n",
      "content:   tool_call_chunk [{'name': 'get_current_time', 'args': {'timezone': ''}, 'id': 'call_6PisPBfdRvZGNo0l7kodsaHW', 'type': 'tool_call'}]\n",
      "chunk type:  <class 'langchain_core.messages.ai.AIMessageChunk'>\n",
      "content:   tool_call_chunk [{'name': 'get_current_time', 'args': {'timezone': 'Asia'}, 'id': 'call_6PisPBfdRvZGNo0l7kodsaHW', 'type': 'tool_call'}]\n",
      "chunk type:  <class 'langchain_core.messages.ai.AIMessageChunk'>\n",
      "content:   tool_call_chunk [{'name': 'get_current_time', 'args': {'timezone': 'Asia/'}, 'id': 'call_6PisPBfdRvZGNo0l7kodsaHW', 'type': 'tool_call'}]\n",
      "chunk type:  <class 'langchain_core.messages.ai.AIMessageChunk'>\n",
      "content:   tool_call_chunk [{'name': 'get_current_time', 'args': {'timezone': 'Asia/Se'}, 'id': 'call_6PisPBfdRvZGNo0l7kodsaHW', 'type': 'tool_call'}]\n",
      "chunk type:  <class 'langchain_core.messages.ai.AIMessageChunk'>\n",
      "content:   tool_call_chunk [{'name': 'get_current_time', 'args': {'timezone': 'Asia/Seoul'}, 'id': 'call_6PisPBfdRvZGNo0l7kodsaHW', 'type': 'tool_call'}]\n",
      "chunk type:  <class 'langchain_core.messages.ai.AIMessageChunk'>\n",
      "content:   tool_call_chunk [{'name': 'get_current_time', 'args': {'timezone': 'Asia/Seoul'}, 'id': 'call_6PisPBfdRvZGNo0l7kodsaHW', 'type': 'tool_call'}]\n",
      "chunk type:  <class 'langchain_core.messages.ai.AIMessageChunk'>\n",
      "content:   tool_call_chunk [{'name': 'get_current_time', 'args': {'timezone': 'Asia/Seoul'}, 'id': 'call_6PisPBfdRvZGNo0l7kodsaHW', 'type': 'tool_call'}]\n",
      "chunk type:  <class 'langchain_core.messages.ai.AIMessageChunk'>\n",
      "content:   tool_call_chunk [{'name': 'get_current_time', 'args': {'timezone': 'Asia/Seoul', 'location': ''}, 'id': 'call_6PisPBfdRvZGNo0l7kodsaHW', 'type': 'tool_call'}]\n",
      "chunk type:  <class 'langchain_core.messages.ai.AIMessageChunk'>\n",
      "content:   tool_call_chunk [{'name': 'get_current_time', 'args': {'timezone': 'Asia/Seoul', 'location': '부'}, 'id': 'call_6PisPBfdRvZGNo0l7kodsaHW', 'type': 'tool_call'}]\n",
      "chunk type:  <class 'langchain_core.messages.ai.AIMessageChunk'>\n",
      "content:   tool_call_chunk [{'name': 'get_current_time', 'args': {'timezone': 'Asia/Seoul', 'location': '부산'}, 'id': 'call_6PisPBfdRvZGNo0l7kodsaHW', 'type': 'tool_call'}]\n",
      "chunk type:  <class 'langchain_core.messages.ai.AIMessageChunk'>\n",
      "content:   tool_call_chunk [{'name': 'get_current_time', 'args': {'timezone': 'Asia/Seoul', 'location': '부산'}, 'id': 'call_6PisPBfdRvZGNo0l7kodsaHW', 'type': 'tool_call'}]\n",
      "chunk type:  <class 'langchain_core.messages.ai.AIMessageChunk'>\n",
      "content:   tool_call_chunk [{'name': 'get_current_time', 'args': {'timezone': 'Asia/Seoul', 'location': '부산'}, 'id': 'call_6PisPBfdRvZGNo0l7kodsaHW', 'type': 'tool_call'}]\n"
     ]
    }
   ],
   "source": [
    "messages = [\n",
    "    SystemMessage(\"너는 사용자의 질문에 답변을 하기 위해 tools를 사용할 수 있다.\"),\n",
    "    HumanMessage(\"부산은 지금 몇 시야?\"),\n",
    "]\n",
    "\n",
    "response = llm_with_tools.stream(messages)\n",
    "\n",
    "is_first = True\n",
    "for chunk in response:\n",
    "    print(\"chunk type: \", type(chunk))\n",
    "    if is_first:\n",
    "        is_first = False\n",
    "        gathered = chunk\n",
    "    else:\n",
    "        gathered += chunk\n",
    "        \n",
    "    print(\"content: \", gathered.content, \"tool_call_chunk\", gathered.tool_calls)\n",
    "    \n",
    "messages.append(gathered)"
   ]
  },
  {
   "cell_type": "code",
   "execution_count": 13,
   "id": "5e92aa63",
   "metadata": {},
   "outputs": [
    {
     "name": "stdout",
     "output_type": "stream",
     "text": [
      "{'timezone': 'Asia/Seoul', 'location': '부산'}\n",
      "Asia/Seoul (부산) 현재 시각 2025-10-05 13:38:37\n"
     ]
    },
    {
     "data": {
      "text/plain": [
       "[SystemMessage(content='너는 사용자의 질문에 답변을 하기 위해 tools를 사용할 수 있다.', additional_kwargs={}, response_metadata={}),\n",
       " HumanMessage(content='부산은 지금 몇 시야?', additional_kwargs={}, response_metadata={}),\n",
       " AIMessageChunk(content='', additional_kwargs={'tool_calls': [{'index': 0, 'id': 'call_6PisPBfdRvZGNo0l7kodsaHW', 'function': {'arguments': '{\"timezone\":\"Asia/Seoul\",\"location\":\"부산\"}', 'name': 'get_current_time'}, 'type': 'function'}]}, response_metadata={'finish_reason': 'tool_calls', 'model_name': 'gpt-4o-mini-2024-07-18', 'system_fingerprint': 'fp_560af6e559', 'service_tier': 'default'}, id='run--e8d9fee6-3b38-4d59-86e9-cf7fd473b372', tool_calls=[{'name': 'get_current_time', 'args': {'timezone': 'Asia/Seoul', 'location': '부산'}, 'id': 'call_6PisPBfdRvZGNo0l7kodsaHW', 'type': 'tool_call'}], tool_call_chunks=[{'name': 'get_current_time', 'args': '{\"timezone\":\"Asia/Seoul\",\"location\":\"부산\"}', 'id': 'call_6PisPBfdRvZGNo0l7kodsaHW', 'index': 0, 'type': 'tool_call_chunk'}]),\n",
       " ToolMessage(content='Asia/Seoul (부산) 현재 시각 2025-10-05 13:38:37', name='get_current_time', tool_call_id='call_6PisPBfdRvZGNo0l7kodsaHW')]"
      ]
     },
     "execution_count": 13,
     "metadata": {},
     "output_type": "execute_result"
    }
   ],
   "source": [
    "for tool_call in gathered.tool_calls:\n",
    "    selected_tool = tool_dict[tool_call[\"name\"]]\n",
    "    print(tool_call[\"args\"])\n",
    "    tool_msg = selected_tool.invoke(tool_call)\n",
    "    messages.append(tool_msg)\n",
    "    \n",
    "messages"
   ]
  },
  {
   "cell_type": "code",
   "execution_count": 14,
   "id": "889910b1",
   "metadata": {},
   "outputs": [
    {
     "name": "stdout",
     "output_type": "stream",
     "text": [
      "|부|산|은| 지금| |202|5|년| |10|월| |5|일| |13|시| |38|분| |37|초|입니다|.||"
     ]
    }
   ],
   "source": [
    "for c in llm_with_tools.stream(messages):\n",
    "    print(c.content, end=\"|\")"
   ]
  }
 ],
 "metadata": {
  "kernelspec": {
   "display_name": "venvAgent",
   "language": "python",
   "name": "python3"
  },
  "language_info": {
   "codemirror_mode": {
    "name": "ipython",
    "version": 3
   },
   "file_extension": ".py",
   "mimetype": "text/x-python",
   "name": "python",
   "nbconvert_exporter": "python",
   "pygments_lexer": "ipython3",
   "version": "3.12.9"
  }
 },
 "nbformat": 4,
 "nbformat_minor": 5
}
